{
  "nbformat": 4,
  "nbformat_minor": 0,
  "metadata": {
    "colab": {
      "name": "DBN ANIMALES.ipynb",
      "provenance": [],
      "collapsed_sections": []
    },
    "kernelspec": {
      "name": "python3",
      "display_name": "Python 3"
    }
  },
  "cells": [
    {
      "cell_type": "markdown",
      "metadata": {
        "id": "xq5FIG7N-ulY",
        "colab_type": "text"
      },
      "source": [
        "# Demo Deep Belief Network para identificar TIPOS de ANIMALES\n"
      ]
    },
    {
      "cell_type": "markdown",
      "metadata": {
        "id": "BR3LhvTiBYt6",
        "colab_type": "text"
      },
      "source": [
        "0) Instalar paquete de DBN: \n",
        "( para más info ver https://github.com/albertbup/deep-belief-network/blob/master/README.md )"
      ]
    },
    {
      "cell_type": "code",
      "metadata": {
        "id": "3wCpMgQgBY1o",
        "colab_type": "code",
        "colab": {}
      },
      "source": [
        "pip install git+git://github.com/albertbup/deep-belief-network.git"
      ],
      "execution_count": null,
      "outputs": []
    },
    {
      "cell_type": "markdown",
      "metadata": {
        "id": "tVHR1a53C-6Z",
        "colab_type": "text"
      },
      "source": [
        "1) Cargar librerías:"
      ]
    },
    {
      "cell_type": "code",
      "metadata": {
        "id": "noO34IYwDEFQ",
        "colab_type": "code",
        "cellView": "form",
        "colab": {}
      },
      "source": [
        "#@title Librerías a usar\n",
        "\n",
        "# nota se debe indicar la versión 1 de TF para compatibilidad del código\n",
        "%tensorflow_version 1.x\n",
        "import tensorflow as tf\n",
        "print(tf.__version__)\n",
        "\n",
        "from dbn.tensorflow import SupervisedDBNClassification\n",
        "import numpy as np\n",
        "import pandas as pd\n",
        "from numpy.random import RandomState\n",
        "\n",
        "from sklearn.metrics.classification import accuracy_score\n",
        "from sklearn.metrics import confusion_matrix\n",
        "from sklearn.metrics import classification_report\n",
        "from matplotlib import pyplot as plt\n",
        "\n",
        "print (\"Librerías cargadas.\")"
      ],
      "execution_count": null,
      "outputs": []
    },
    {
      "cell_type": "markdown",
      "metadata": {
        "id": "wKWxA5ww_G7e",
        "colab_type": "text"
      },
      "source": [
        "2) Configurar los datos cargados (se debe definir de acuerdo a los datos):"
      ]
    },
    {
      "cell_type": "code",
      "metadata": {
        "id": "8vYL-JW1-8pJ",
        "colab_type": "code",
        "cellView": "form",
        "colab": {}
      },
      "source": [
        "## selección de los parámetros \n",
        "\n",
        "#@markdown ### Parámetros de archivo de datos:\n",
        "archivo_datos = '/datos/animales.csv'  #@param {type:\"string\"}\n",
        "atributo_clase = 'TIPO' #@param {type:\"string\"}\n",
        "nombre_clases = 'MAMIFERO, AVE, REPTIL, PEZ, ANFIBIO, INSECTO, INVERTEBRADO' #@param {type:\"string\"}\n",
        "\n",
        "proporcion_porcentaje_datos_entrenamiento = 69  #@param {type:\"integer\"}\n",
        "\n",
        "## aplicación de los parámetros elegidos\n",
        "\n",
        "# define nombre atributo de CLASE para ejemplo ANIMALES\n",
        "ClassAttributeName = atributo_clase\n",
        "\n",
        "# define valores de clases para ejemplo ANIMALES\n",
        "CLASES = [ 'na' ]\n",
        "for val in nombre_clases.split(','):\n",
        "  CLASES.append( val )\n",
        "\n",
        "print(\"Configuración definida de \", archivo_datos)\n",
        "print(\"Atributo clase: \", ClassAttributeName, \": \", CLASES)\n"
      ],
      "execution_count": null,
      "outputs": []
    },
    {
      "cell_type": "markdown",
      "metadata": {
        "id": "rrkL9hjP-8fk",
        "colab_type": "text"
      },
      "source": [
        "3) Cargar CSV con datos a procesar y preparar datos para entrenar y probar (ya separados):"
      ]
    },
    {
      "cell_type": "code",
      "metadata": {
        "id": "eXXg-gREJSyn",
        "colab_type": "code",
        "cellView": "form",
        "colab": {}
      },
      "source": [
        "# monta Google Drive:\n",
        "# Nota: la primera vez se debe confirmar el uso logueandose en \"Google Drive File Stream\" y obteniendo código de autentificación.\n",
        "from google.colab import drive\n",
        "drive.mount('/content/gdrive')\n",
        "\n",
        "# directorio local en Google Drive\n",
        "path = 'gdrive/My Drive/Colab Notebooks/IA-RNA-master'  #@param {type:\"string\"}"
      ],
      "execution_count": null,
      "outputs": []
    },
    {
      "cell_type": "code",
      "metadata": {
        "id": "8LeBIGi0JkPW",
        "colab_type": "code",
        "cellView": "form",
        "colab": {}
      },
      "source": [
        "#@title Preparar datos de entrenamiento\n",
        "\n",
        "# Carga los datos del CSV y muestra los primeros\n",
        "df = pd.read_csv(path + archivo_datos)\n",
        "df.head()\n",
        "\n",
        "# separa al azar con proporción indicada\n",
        "rng = RandomState()\n",
        "\n",
        "if proporcion_porcentaje_datos_entrenamiento>100:\n",
        "  propTrain = 1\n",
        "elif proporcion_porcentaje_datos_entrenamiento<1:\n",
        "  propTrain = 0.1\n",
        "else:\n",
        "  propTrain = proporcion_porcentaje_datos_entrenamiento/100\n",
        "train = df.sample(frac=propTrain, random_state=rng)\n",
        "test = df.loc[~df.index.isin(train.index)]\n",
        "\n",
        "print(\"Datos Originales \", df.shape)\n",
        "print(\"- Datos para Entrenar \", train.shape)\n",
        "print(\"- Datos para Probar \", test.shape)\n",
        "\n",
        "# define datos de entrada y salida para entrenamiento\n",
        "X_train = np.array(train.drop([ClassAttributeName], axis=1))\n",
        "Y_train = np.array(train[ClassAttributeName])\n",
        "\n",
        "# define datos de entrada y salida para testing\n",
        "X_test = np.array(test.drop([ClassAttributeName], axis=1))\n",
        "Y_test = np.array(test[ClassAttributeName])\n",
        "\n",
        "print(\"Datos Originales \", len(X_train)+len(X_test))\n",
        "print(\"- Datos para Entrenar \", len(X_train))\n",
        "print(\"- Datos para Probar \", len(X_test))"
      ],
      "execution_count": null,
      "outputs": []
    },
    {
      "cell_type": "markdown",
      "metadata": {
        "id": "t2uFvn_AAF_K",
        "colab_type": "text"
      },
      "source": [
        "4) Especificar el modelo para la DBN:"
      ]
    },
    {
      "cell_type": "code",
      "metadata": {
        "id": "o4Lr5871DLiE",
        "colab_type": "code",
        "cellView": "both",
        "colab": {}
      },
      "source": [
        "#@title Establecer el modelo\n",
        "\n",
        "classifier = SupervisedDBNClassification(hidden_layers_structure = [256, 128],\n",
        "learning_rate_rbm=0.05,\n",
        "learning_rate=0.1,\n",
        "n_epochs_rbm=20,\n",
        "n_iter_backprop=200,\n",
        "batch_size=32,\n",
        "activation_function='relu',\n",
        "dropout_p=0.2)\n",
        "\n",
        "print(classifier)"
      ],
      "execution_count": null,
      "outputs": []
    },
    {
      "cell_type": "markdown",
      "metadata": {
        "id": "nHhKymRKAen0",
        "colab_type": "text"
      },
      "source": [
        "5) Entrenar el modelo de la DBN:"
      ]
    },
    {
      "cell_type": "code",
      "metadata": {
        "id": "szAiJSdGDMua",
        "colab_type": "code",
        "cellView": "form",
        "colab": {}
      },
      "source": [
        "#@title Entrenar\n",
        "classifier.fit(X_train, Y_train)"
      ],
      "execution_count": null,
      "outputs": []
    },
    {
      "cell_type": "code",
      "metadata": {
        "id": "Rca9M8C78JV9",
        "colab_type": "code",
        "colab": {},
        "cellView": "form"
      },
      "source": [
        "#@title Evaluar el modelo con datos de entrenamiento\n",
        "\n",
        "# ejecuta el  modelo\n",
        "Y_pred = classifier.predict(X_train)\n",
        "\n",
        "# calcula la exactitud\n",
        "print('\\nExactitud: %f' % accuracy_score(Y_train, Y_pred))\n",
        "\n",
        "# muestra resultados de la predicción\n",
        "classPreds = []\n",
        "classReal = []\n",
        "cantOK = 0\n",
        "cantError = 0\n",
        "print(\"\\n Resultados: \")\n",
        "for pred_class_id, expec in zip(Y_pred, Y_train):\n",
        "    \n",
        "    classPreds.append(CLASES[pred_class_id])\n",
        "    classReal.append(CLASES[expec])\n",
        "\n",
        "    if (pred_class_id == expec): \n",
        "      res = \"\"\n",
        "      cantOK += 1\n",
        "    else: \n",
        "      res = \"!\"\n",
        "      cantError += 1\n",
        "\n",
        "    print('Clase predecida es \"{}\"[{}], la correcta es \"{}\"[{}]{} '.format(\n",
        "        CLASES[pred_class_id], pred_class_id, CLASES[expec], expec, res))\n",
        "\n",
        "print('=== Total Ejemplos: {}, con {} predicciones ok y {} errores.'.format(cantOK+cantError, cantOK, cantError))\n",
        "\n",
        "# gráfico de comparación\n",
        "plt.title('Gráfico de Confusión')\n",
        "plt.xlabel('Real')\n",
        "plt.ylabel('DBN')\n",
        "plt.scatter(classReal, classPreds)\n",
        "\n",
        "# muestra reporte de clasificación\n",
        "print(\"\\n Reporte de Clasificación: \")\n",
        "print(classification_report(classReal, classPreds))\n",
        "\n",
        "# muestra matriz de confusion\n",
        "print('\\nMatriz de Confusión: ')\n",
        "cm = confusion_matrix(classReal, classPreds, labels=CLASES)\n",
        "cmtx = pd.DataFrame(\n",
        "    cm, \n",
        "    index=['r:{:}'.format(x) for x in CLASES], \n",
        "    columns=['p:{:}'.format(x) for x in CLASES]\n",
        "  )\n",
        "print(cmtx)\n",
        "print(\"\\n\")\n"
      ],
      "execution_count": null,
      "outputs": []
    },
    {
      "cell_type": "markdown",
      "metadata": {
        "id": "Nr4CxxGEAjNj",
        "colab_type": "text"
      },
      "source": [
        "6) Evaluar el modelo de la RNA entrenado:"
      ]
    },
    {
      "cell_type": "code",
      "metadata": {
        "id": "0gm_70hZDO90",
        "colab_type": "code",
        "cellView": "form",
        "colab": {}
      },
      "source": [
        "#@title Evaluar el modelo con datos de prueba\n",
        "\n",
        "# ejecuta el  modelo\n",
        "Y_pred = classifier.predict(X_test)\n",
        "\n",
        "# calcula la exactitud\n",
        "print('\\nExactitud: %f' % accuracy_score(Y_test, Y_pred))\n",
        "\n",
        "# muestra resultados de la predicción\n",
        "classPreds = []\n",
        "classReal = []\n",
        "cantOK = 0\n",
        "cantError = 0\n",
        "print(\"\\n Resultados: \")\n",
        "for pred_class_id, expec in zip(Y_pred, Y_test):\n",
        "    \n",
        "    classPreds.append(CLASES[pred_class_id])\n",
        "    classReal.append(CLASES[expec])\n",
        "\n",
        "    if (pred_class_id == expec): \n",
        "      res = \"\"\n",
        "      cantOK += 1\n",
        "    else: \n",
        "      res = \"!\"\n",
        "      cantError += 1\n",
        "\n",
        "    print('Clase predecida es \"{}\"[{}], la correcta es \"{}\"[{}]{} '.format(\n",
        "        CLASES[pred_class_id], pred_class_id, CLASES[expec], expec, res))\n",
        "\n",
        "print('=== Total Ejemplos: {}, con {} predicciones ok y {} errores.'.format(cantOK+cantError, cantOK, cantError))\n",
        "\n",
        "# gráfico de comparación\n",
        "plt.title('Gráfico de Confusión')\n",
        "plt.xlabel('Real')\n",
        "plt.ylabel('DBN')\n",
        "plt.scatter(classReal, classPreds)\n",
        "\n",
        "# muestra reporte de clasificación\n",
        "print(\"\\n Reporte de Clasificación: \")\n",
        "print(classification_report(classReal, classPreds))\n",
        "\n",
        "# muestra matriz de confusion\n",
        "print('\\nMatriz de Confusión: ')\n",
        "cm = confusion_matrix(classReal, classPreds, labels=CLASES)\n",
        "cmtx = pd.DataFrame(\n",
        "    cm, \n",
        "    index=['r:{:}'.format(x) for x in CLASES], \n",
        "    columns=['p:{:}'.format(x) for x in CLASES]\n",
        "  )\n",
        "print(cmtx)\n",
        "print(\"\\n\")\n"
      ],
      "execution_count": null,
      "outputs": []
    }
  ]
}
